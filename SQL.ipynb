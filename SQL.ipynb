{
 "cells": [
  {
   "cell_type": "markdown",
   "metadata": {},
   "source": [
    "# Summary of SQL Questions on Leetcode"
   ]
  },
  {
   "cell_type": "markdown",
   "metadata": {},
   "source": [
    "## Topic 1: Using function, Limit (offset)"
   ]
  },
  {
   "cell_type": "markdown",
   "metadata": {},
   "source": [
    "### Q177. Nth Highest Salary (Difficulty Level: Medium)"
   ]
  },
  {
   "cell_type": "code",
   "execution_count": null,
   "metadata": {},
   "outputs": [],
   "source": [
    "#My Solution using MySQL:\n",
    "\n",
    "CREATE FUNCTION getNthHighestSalary(N INT) RETURNS INT\n",
    "BEGIN\n",
    "DECLARE M INT;\n",
    "SET M=N-1;\n",
    "  RETURN (\n",
    "      # Write your MySQL query statement below.\n",
    "      SELECT DISTINCT Salary FROM Employee ORDER BY Salary DESC LIMIT M, 1\n",
    "  );\n",
    "END"
   ]
  },
  {
   "cell_type": "markdown",
   "metadata": {},
   "source": [
    "### Q196. Delete Duplicate Emails (Easy)"
   ]
  },
  {
   "cell_type": "code",
   "execution_count": null,
   "metadata": {},
   "outputs": [],
   "source": [
    "Delete p1\n",
    "from person as p1, person as p2\n",
    "where p1.email = p2.email\n",
    "and p1.id > p2.id"
   ]
  },
  {
   "cell_type": "markdown",
   "metadata": {},
   "source": [
    "### Q578. Get Highest Answer Rate Question (Medium)"
   ]
  },
  {
   "cell_type": "code",
   "execution_count": null,
   "metadata": {},
   "outputs": [],
   "source": [
    "select question_id as survey_log\n",
    "from survey_log\n",
    "group by question_id\n",
    "order by sum(action like 'answer')/count(*) desc limit 1;"
   ]
  },
  {
   "cell_type": "markdown",
   "metadata": {},
   "source": [
    "## Topic 2: SQL Basics"
   ]
  },
  {
   "cell_type": "markdown",
   "metadata": {},
   "source": [
    "### Q182. Duplicate Emails (Easy)"
   ]
  },
  {
   "cell_type": "code",
   "execution_count": null,
   "metadata": {},
   "outputs": [],
   "source": [
    "select Email\n",
    "from person \n",
    "group by email\n",
    "having count(*) > 1;"
   ]
  },
  {
   "cell_type": "markdown",
   "metadata": {},
   "source": [
    "### Q262. Trips and Users (Hard)"
   ]
  },
  {
   "cell_type": "code",
   "execution_count": null,
   "metadata": {},
   "outputs": [],
   "source": [
    "SELECT T.Request_at AS Day, ROUND((SUM(T.Status NOT LIKE 'Completed') / COUNT(*)), 2) AS 'Cancellation Rate'\n",
    "FROM Trips as T\n",
    "JOIN Users as U\n",
    "ON T.Client_Id = U.Users_Id\n",
    "WHERE U.Banned = 'No' \n",
    "AND Request_at Between '2013-10-01' and '2013-10-03'\n",
    "GROUP BY Request_at "
   ]
  },
  {
   "cell_type": "markdown",
   "metadata": {},
   "source": [
    "### Q612. Shortest Distance in a Plane (Medium)"
   ]
  },
  {
   "cell_type": "markdown",
   "metadata": {},
   "source": [
    "SELECT ROUND(SQRT(MIN((TB1.X-TB2.X)*(TB1.X-TB2.X) + (TB1.Y-TB2.Y)*(TB1.Y-TB2.Y))),2) as shortest\n",
    "FROM point_2d as TB1, point_2d as TB2\n",
    "WHERE TB1.X <> TB2.X \n",
    "OR TB1.Y <> TB2.Y;"
   ]
  },
  {
   "cell_type": "markdown",
   "metadata": {},
   "source": [
    "## Topic 3: Joins"
   ]
  },
  {
   "cell_type": "markdown",
   "metadata": {},
   "source": [
    "### Q183. Customers Who Never Order (Easy)"
   ]
  },
  {
   "cell_type": "code",
   "execution_count": null,
   "metadata": {},
   "outputs": [],
   "source": [
    "SELECT C.Name as Customers\n",
    "FROM Customers C\n",
    "LEFT JOIN Orders O\n",
    "ON C.Id = O.CustomerId\n",
    "WHERE O.CustomerId IS NULL"
   ]
  },
  {
   "cell_type": "markdown",
   "metadata": {},
   "source": [
    "### Q184. Department Highest Salary (Medium)"
   ]
  },
  {
   "cell_type": "code",
   "execution_count": null,
   "metadata": {},
   "outputs": [],
   "source": [
    "SELECT D.Name as Department, temp.Name as Employee, temp.SALARY\n",
    "FROM Department D,\n",
    "(\n",
    "SELECT E.Id, E.Name, E.Salary, E.DepartmentId FROM Employee E JOIN\n",
    "    (SELECT DepartmentId, MAX(SALARY) AS MAXIMUMSALARY \n",
    "     FROM Employee\n",
    "     GROUP BY DepartmentId) Q\n",
    "     ON E.DepartmentId = Q.DepartmentId\n",
    "     WHERE E.Salary = MAXIMUMSALARY\n",
    ") temp\n",
    "WHERE D.Id = temp.DepartmentId"
   ]
  },
  {
   "cell_type": "markdown",
   "metadata": {},
   "source": [
    "### Q185. Department Top Three Salaries (Hard)"
   ]
  },
  {
   "cell_type": "code",
   "execution_count": null,
   "metadata": {},
   "outputs": [],
   "source": [
    "select d.name as department, tb1.name as employee, tb1.salary\n",
    "from employee tb1\n",
    "left join department d\n",
    "on tb1.departmentid = d.id\n",
    "where \n",
    "(select count(distinct tb2.salary)\n",
    "from employee tb2\n",
    "where tb2.salary > tb1.salary\n",
    "and tb1.departmentid = tb2.departmentid) < 3"
   ]
  }
 ],
 "metadata": {
  "kernelspec": {
   "display_name": "Python 3",
   "language": "python",
   "name": "python3"
  },
  "language_info": {
   "codemirror_mode": {
    "name": "ipython",
    "version": 3
   },
   "file_extension": ".py",
   "mimetype": "text/x-python",
   "name": "python",
   "nbconvert_exporter": "python",
   "pygments_lexer": "ipython3",
   "version": "3.7.6"
  }
 },
 "nbformat": 4,
 "nbformat_minor": 4
}
