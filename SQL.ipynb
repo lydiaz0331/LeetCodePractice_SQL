{
 "cells": [
  {
   "cell_type": "markdown",
   "metadata": {},
   "source": [
    "# Summary of SQL Questions on Leetcode"
   ]
  },
  {
   "cell_type": "markdown",
   "metadata": {},
   "source": [
    "## Topic 1: Using function, Limit (offset), Rank"
   ]
  },
  {
   "cell_type": "markdown",
   "metadata": {},
   "source": [
    "### Q176. Second Highest Salary (Difficulty Level: Easy) "
   ]
  },
  {
   "cell_type": "code",
   "execution_count": null,
   "metadata": {},
   "outputs": [],
   "source": [
    "select DISTINCT salary as SecondHighestSalary\n",
    "FROM Employee \n",
    "ORDER BY Salary DESC LIMIT 1, 1;"
   ]
  },
  {
   "cell_type": "markdown",
   "metadata": {},
   "source": [
    "### Q177. Nth Highest Salary (Medium)"
   ]
  },
  {
   "cell_type": "code",
   "execution_count": null,
   "metadata": {},
   "outputs": [],
   "source": [
    "#My Solution using MySQL:\n",
    "\n",
    "CREATE FUNCTION getNthHighestSalary(N INT) RETURNS INT\n",
    "BEGIN\n",
    "DECLARE M INT;\n",
    "SET M=N-1;\n",
    "  RETURN (\n",
    "      # Write your MySQL query statement below.\n",
    "      SELECT DISTINCT Salary FROM Employee ORDER BY Salary DESC LIMIT M, 1\n",
    "  );\n",
    "END"
   ]
  },
  {
   "cell_type": "markdown",
   "metadata": {},
   "source": [
    "### Q178. Rank Scores (Medium) "
   ]
  },
  {
   "cell_type": "code",
   "execution_count": null,
   "metadata": {},
   "outputs": [],
   "source": [
    "SELECT\n",
    "  Score,\n",
    "  (SELECT count(distinct Score) FROM Scores WHERE Score >= s.Score) Rank\n",
    "FROM Scores s\n",
    "ORDER BY Score desc"
   ]
  },
  {
   "cell_type": "markdown",
   "metadata": {},
   "source": [
    "### Q574. Winning Candidate (Medium) "
   ]
  },
  {
   "cell_type": "code",
   "execution_count": null,
   "metadata": {},
   "outputs": [],
   "source": [
    "select c.name \n",
    "from candidate c, vote v\n",
    "where c.id = v.candidateId\n",
    "group by v.candidateId\n",
    "order by count(candidateId) desc limit 1;"
   ]
  },
  {
   "cell_type": "markdown",
   "metadata": {},
   "source": [
    "### Q586. Customer Placing the Largest Number of Orders (Easy)"
   ]
  },
  {
   "cell_type": "code",
   "execution_count": null,
   "metadata": {},
   "outputs": [],
   "source": [
    "SELECT s1.customer_number\n",
    "FROM \n",
    "     (SELECT customer_number, count(customer_number) as \"count\"\n",
    "      FROM orders\n",
    "      GROUP BY customer_number\n",
    "      ORDER BY count DESC) AS s1\n",
    "LIMIT 1;"
   ]
  },
  {
   "cell_type": "markdown",
   "metadata": {},
   "source": [
    "### Q602. Friend Requests II: Who Has the Most Friends (Medium) "
   ]
  },
  {
   "cell_type": "code",
   "execution_count": null,
   "metadata": {},
   "outputs": [],
   "source": [
    "select id1 as id, count(id2) as num\n",
    "from\n",
    "(select requester_id as id1, accepter_id as id2 \n",
    "from request_accepted\n",
    "union \n",
    "select accepter_id as id1, requester_id as id2 \n",
    "from request_accepted) tmp1\n",
    "group by id1 \n",
    "order by num desc limit 1"
   ]
  },
  {
   "cell_type": "markdown",
   "metadata": {},
   "source": [
    "### Q619. Biggest Single Number (Easy)"
   ]
  },
  {
   "cell_type": "code",
   "execution_count": null,
   "metadata": {},
   "outputs": [],
   "source": [
    "select num from\n",
    "my_numbers\n",
    "group by num\n",
    "having count(*) = 1\n",
    "order by num desc limit 1;"
   ]
  },
  {
   "cell_type": "markdown",
   "metadata": {},
   "source": [
    "## Topic 2: SQL Basics"
   ]
  },
  {
   "cell_type": "markdown",
   "metadata": {},
   "source": [
    "### Q182. Duplicate Emails (Easy)"
   ]
  },
  {
   "cell_type": "code",
   "execution_count": null,
   "metadata": {},
   "outputs": [],
   "source": [
    "select Email\n",
    "from person \n",
    "group by email\n",
    "having count(*) > 1;"
   ]
  },
  {
   "cell_type": "markdown",
   "metadata": {},
   "source": [
    "### Q196. Delete Duplicate Emails (Easy)"
   ]
  },
  {
   "cell_type": "code",
   "execution_count": null,
   "metadata": {},
   "outputs": [],
   "source": [
    "Delete p1\n",
    "from person as p1, person as p2\n",
    "where p1.email = p2.email\n",
    "and p1.id > p2.id"
   ]
  },
  {
   "cell_type": "markdown",
   "metadata": {},
   "source": [
    "### Q197. Rising Temperature (Easy)"
   ]
  },
  {
   "cell_type": "code",
   "execution_count": null,
   "metadata": {},
   "outputs": [],
   "source": [
    "SELECT tb1.Id\n",
    "FROM Weather as tb1\n",
    "JOIN Weather as tb2\n",
    "ON tb1.RecordDate = tb2.RecordDate + 1\n",
    "WHERE tb1.Temperature > tb2.Temperature;"
   ]
  },
  {
   "cell_type": "markdown",
   "metadata": {},
   "source": [
    "### Q262. Trips and Users (Hard)"
   ]
  },
  {
   "cell_type": "code",
   "execution_count": null,
   "metadata": {},
   "outputs": [],
   "source": [
    "SELECT T.Request_at AS Day, ROUND((SUM(T.Status NOT LIKE 'Completed') / COUNT(*)), 2) AS 'Cancellation Rate'\n",
    "FROM Trips as T\n",
    "JOIN Users as U\n",
    "ON T.Client_Id = U.Users_Id\n",
    "WHERE U.Banned = 'No' \n",
    "AND Request_at Between '2013-10-01' and '2013-10-03'\n",
    "GROUP BY Request_at "
   ]
  },
  {
   "cell_type": "markdown",
   "metadata": {},
   "source": [
    "### Q569. Median Employee Salary (Hard)"
   ]
  },
  {
   "cell_type": "code",
   "execution_count": null,
   "metadata": {},
   "outputs": [],
   "source": [
    "SELECT\n",
    "  id,\n",
    "  Company,\n",
    "  Salary\n",
    "FROM Employee e\n",
    "WHERE 1 >= ABS((SELECT COUNT(*) FROM Employee e1 WHERE e.company = e1.company AND e.Salary >= e1.Salary) -\n",
    "           (SELECT COUNT(*) FROM Employee e2 WHERE e.company = e2.company AND e.Salary <= e2.Salary)) \n",
    "GROUP BY Company, Salary"
   ]
  },
  {
   "cell_type": "markdown",
   "metadata": {},
   "source": [
    "### Q570. Managers with at Least 5 Direct Reports (Medium) "
   ]
  },
  {
   "cell_type": "code",
   "execution_count": null,
   "metadata": {},
   "outputs": [],
   "source": [
    "SELECT tb2.Name FROM Employee tb1, Employee tb2\n",
    "WHERE tb1.ManagerId = tb2.Id\n",
    "GROUP BY tb2.Name\n",
    "HAVING COUNT(*) >= 5;"
   ]
  },
  {
   "cell_type": "markdown",
   "metadata": {},
   "source": [
    "### Q571. Find Median Given Frequency of Numbers (Hard)"
   ]
  },
  {
   "cell_type": "code",
   "execution_count": null,
   "metadata": {},
   "outputs": [],
   "source": [
    "select avg(n.Number) median\n",
    "from Numbers n\n",
    "where n.Frequency >= abs((select sum(Frequency) from Numbers where Number<=n.Number) -\n",
    "                         (select sum(Frequency) from Numbers where Number>=n.Number));"
   ]
  },
  {
   "cell_type": "markdown",
   "metadata": {},
   "source": [
    "### Q579. Find Cumulative Salary of an Employee (Hard) "
   ]
  },
  {
   "cell_type": "code",
   "execution_count": null,
   "metadata": {},
   "outputs": [],
   "source": [
    "SELECT   A.Id, MAX(B.Month) as Month, SUM(B.Salary) as Salary\n",
    "FROM     Employee A, Employee B\n",
    "WHERE    A.Id = B.Id AND B.Month BETWEEN (A.Month-3) AND (A.Month-1)\n",
    "GROUP BY A.Id, A.Month\n",
    "ORDER BY Id, Month DESC;"
   ]
  },
  {
   "cell_type": "markdown",
   "metadata": {},
   "source": [
    "### Q585. Investments in 2016 (Medium)"
   ]
  },
  {
   "cell_type": "code",
   "execution_count": 1,
   "metadata": {},
   "outputs": [
    {
     "ename": "SyntaxError",
     "evalue": "invalid syntax (<ipython-input-1-2ce8dfaa1717>, line 1)",
     "output_type": "error",
     "traceback": [
      "\u001b[0;36m  File \u001b[0;32m\"<ipython-input-1-2ce8dfaa1717>\"\u001b[0;36m, line \u001b[0;32m1\u001b[0m\n\u001b[0;31m    SELECT SUM(tb1.TIV_2016) AS TIV_2016\u001b[0m\n\u001b[0m             ^\u001b[0m\n\u001b[0;31mSyntaxError\u001b[0m\u001b[0;31m:\u001b[0m invalid syntax\n"
     ]
    }
   ],
   "source": [
    "SELECT SUM(tb1.TIV_2016) AS TIV_2016\n",
    "FROM insurance tb1\n",
    "WHERE tb1.TIV_2015 IN\n",
    "(\n",
    "SELECT TIV_2015 \n",
    "FROM insurance\n",
    "GROUP BY TIV_2015\n",
    "HAVING COUNT(*) > 1\n",
    ")\n",
    "AND CONCAT(tb1.LAT,tb1.LON) IN\n",
    "(\n",
    "SELECT CONCAT(LAT, LON)\n",
    "FROM insurance\n",
    "GROUP BY LAT, LON\n",
    "HAVING COUNT(*) = 1\n",
    ");"
   ]
  },
  {
   "cell_type": "markdown",
   "metadata": {},
   "source": [
    "### Q608. Tree Node (Medium)"
   ]
  },
  {
   "cell_type": "code",
   "execution_count": null,
   "metadata": {},
   "outputs": [],
   "source": [
    "SELECT id, \n",
    "    CASE WHEN p_id IS NULL THEN 'Root'\n",
    "         WHEN (p_id IS NOT NULL AND id IN (\n",
    "                                            SELECT p_id FROM tree)) THEN 'Inner'\n",
    "         ELSE 'Leaf'\n",
    "    END AS Type\n",
    "FROM tree;"
   ]
  },
  {
   "cell_type": "markdown",
   "metadata": {},
   "source": [
    "### Q610. Triangle Judgement (Easy)"
   ]
  },
  {
   "cell_type": "code",
   "execution_count": null,
   "metadata": {},
   "outputs": [],
   "source": [
    "SELECT X, Y, Z,\n",
    "CASE WHEN (x + y > z) and (x + z >y) and (y+z >=x) THEN 'Yes'\n",
    "ELSE 'No'\n",
    "END AS 'triangle'\n",
    "FROM triangle"
   ]
  },
  {
   "cell_type": "markdown",
   "metadata": {},
   "source": [
    "### Q612. Shortest Distance in a Plane (Medium)"
   ]
  },
  {
   "cell_type": "code",
   "execution_count": null,
   "metadata": {},
   "outputs": [],
   "source": [
    "SELECT ROUND(SQRT(MIN((TB1.X-TB2.X)*(TB1.X-TB2.X) + (TB1.Y-TB2.Y)*(TB1.Y-TB2.Y))),2) as shortest\n",
    "FROM point_2d as TB1, point_2d as TB2\n",
    "WHERE TB1.X <> TB2.X \n",
    "OR TB1.Y <> TB2.Y;"
   ]
  },
  {
   "cell_type": "markdown",
   "metadata": {},
   "source": [
    "### Q613. Shortest Distance in a Line (Easy)"
   ]
  },
  {
   "cell_type": "code",
   "execution_count": null,
   "metadata": {},
   "outputs": [],
   "source": [
    "SELECT MIN(ABS(TB1.X - TB2.X)) AS  shortest\n",
    "FROM point TB1, POINT TB2\n",
    "WHERE TB1.X <> TB2.X"
   ]
  },
  {
   "cell_type": "markdown",
   "metadata": {},
   "source": [
    "### Q626. Exchange Seats (Medium)"
   ]
  },
  {
   "cell_type": "code",
   "execution_count": null,
   "metadata": {},
   "outputs": [],
   "source": [
    "select case when id%2<>0 and id <> (max(id) over ()) then id+1\n",
    "            when id%2=0 then id-1\n",
    "            when id = (max(id) over ()) and id%2<>0 then id\n",
    "end as id, student\n",
    "from seat\n",
    "order by id"
   ]
  },
  {
   "cell_type": "markdown",
   "metadata": {},
   "source": [
    "### Q614. Second Degree Follower (Medium) "
   ]
  },
  {
   "cell_type": "code",
   "execution_count": null,
   "metadata": {},
   "outputs": [],
   "source": [
    "select followee as follower, count(distinct follower) as num\n",
    "from follow \n",
    "where followee in (select follower from follow)\n",
    "group by followee \n",
    "having count(*) >=1;"
   ]
  },
  {
   "cell_type": "markdown",
   "metadata": {},
   "source": [
    "## Topic 3: Joins"
   ]
  },
  {
   "cell_type": "markdown",
   "metadata": {},
   "source": [
    "### Q181. Employees Earning More Than Their Managers (Easy)"
   ]
  },
  {
   "cell_type": "code",
   "execution_count": null,
   "metadata": {},
   "outputs": [],
   "source": [
    "SELECT tb1.Name as Employee\n",
    "FROM Employee tb1\n",
    "LEFT JOIN Employee tb2\n",
    "ON tb1.ManagerId = tb2.Id\n",
    "WHERE tb1.Salary > tb2.Salary"
   ]
  },
  {
   "cell_type": "markdown",
   "metadata": {},
   "source": [
    "### Q183. Customers Who Never Order (Easy)"
   ]
  },
  {
   "cell_type": "code",
   "execution_count": null,
   "metadata": {},
   "outputs": [],
   "source": [
    "SELECT C.Name as Customers\n",
    "FROM Customers C\n",
    "LEFT JOIN Orders O\n",
    "ON C.Id = O.CustomerId\n",
    "WHERE O.CustomerId IS NULL"
   ]
  },
  {
   "cell_type": "markdown",
   "metadata": {},
   "source": [
    "### Q184. Department Highest Salary (Medium)"
   ]
  },
  {
   "cell_type": "code",
   "execution_count": null,
   "metadata": {},
   "outputs": [],
   "source": [
    "SELECT D.Name as Department, temp.Name as Employee, temp.SALARY\n",
    "FROM Department D,\n",
    "(\n",
    "SELECT E.Id, E.Name, E.Salary, E.DepartmentId FROM Employee E JOIN\n",
    "    (SELECT DepartmentId, MAX(SALARY) AS MAXIMUMSALARY \n",
    "     FROM Employee\n",
    "     GROUP BY DepartmentId) Q\n",
    "     ON E.DepartmentId = Q.DepartmentId\n",
    "     WHERE E.Salary = MAXIMUMSALARY\n",
    ") temp\n",
    "WHERE D.Id = temp.DepartmentId"
   ]
  },
  {
   "cell_type": "markdown",
   "metadata": {},
   "source": [
    "### Q185. Department Top Three Salaries (Hard)"
   ]
  },
  {
   "cell_type": "code",
   "execution_count": null,
   "metadata": {},
   "outputs": [],
   "source": [
    "select d.name as department, tb1.name as employee, tb1.salary\n",
    "from employee tb1\n",
    "left join department d\n",
    "on tb1.departmentid = d.id\n",
    "where \n",
    "(select count(distinct tb2.salary)\n",
    "from employee tb2\n",
    "where tb2.salary > tb1.salary\n",
    "and tb1.departmentid = tb2.departmentid) < 3"
   ]
  },
  {
   "cell_type": "markdown",
   "metadata": {},
   "source": [
    "### Q580. Count Student Number in Departments (Medium)"
   ]
  },
  {
   "cell_type": "code",
   "execution_count": null,
   "metadata": {},
   "outputs": [],
   "source": [
    "SELECT d.dept_name, COUNT(s.student_id) AS student_number\n",
    "FROM student s RIGHT JOIN department d ON s.dept_id = d.dept_id\n",
    "GROUP BY d.dept_name \n",
    "ORDER BY student_number DESC, d.dept_name;"
   ]
  },
  {
   "cell_type": "markdown",
   "metadata": {},
   "source": [
    "### Q607. Sales Person (Easy)"
   ]
  },
  {
   "cell_type": "code",
   "execution_count": null,
   "metadata": {},
   "outputs": [],
   "source": [
    "SELECT S.name \n",
    "FROM salesperson as S\n",
    "WHERE S.sales_id NOT IN(\n",
    "        SELECT sales_id FROM Orders as O\n",
    "        JOIN company as C\n",
    "        ON O.com_id = C.com_id\n",
    "        WHERE C.name = 'RED')"
   ]
  },
  {
   "cell_type": "markdown",
   "metadata": {},
   "source": [
    "### Q615. Average Salary: Departments VS Company (Hard) "
   ]
  },
  {
   "cell_type": "code",
   "execution_count": null,
   "metadata": {},
   "outputs": [],
   "source": [
    "SELECT\n",
    "  LEFT(s.pay_date, 7) as pay_month,\n",
    "  e.department_id,\n",
    "  CASE\n",
    "    WHEN (ROUND(AVG(s.amount), 4) > sub.cavg ) THEN 'higher'\n",
    "    WHEN (ROUND(AVG(s.amount), 4) < sub.cavg ) THEN 'lower'\n",
    "    ELSE 'same'\n",
    "  END as comparison\n",
    "FROM salary s\n",
    "LEFT JOIN employee e ON s.employee_id = e.employee_id\n",
    "LEFT JOIN (\n",
    "    SELECT\n",
    "      LEFT(pay_date, 7) as mon,\n",
    "      ROUND(AVG(amount), 4) as cavg\n",
    "    FROM salary\n",
    "    GROUP BY mon\n",
    ") sub ON LEFT(s.pay_date, 7) = sub.mon\n",
    "GROUP BY pay_month, e.department_id\n",
    "ORDER BY pay_month DESC, e.department_id;"
   ]
  },
  {
   "cell_type": "markdown",
   "metadata": {},
   "source": [
    "### Q627. Swap Salary (Easy) "
   ]
  },
  {
   "cell_type": "code",
   "execution_count": null,
   "metadata": {},
   "outputs": [],
   "source": [
    "UPDATE SALARY\n",
    "SET sex = case when sex = 'm' then 'f'\n",
    "                else 'm'\n",
    "    end;"
   ]
  },
  {
   "cell_type": "markdown",
   "metadata": {},
   "source": [
    "## Topic 4: Pivoting"
   ]
  },
  {
   "cell_type": "markdown",
   "metadata": {},
   "source": [
    "### Q618. Students Report By Geography (Hard)"
   ]
  },
  {
   "cell_type": "code",
   "execution_count": null,
   "metadata": {},
   "outputs": [],
   "source": [
    "SELECT MAX(a.America) AS \"America\", MAX(a.Asia) AS \"Asia\", MAX(a.Europe) AS \"Europe\"\n",
    "FROM\n",
    "(\n",
    "SELECT name, continent, ROW_NUMBER() OVER (PARTITION BY continent ORDER BY name) AS row_count,\n",
    "CASE\n",
    "WHEN continent = 'America' THEN name\n",
    "END AS America,\n",
    "CASE\n",
    "WHEN continent = 'Asia' THEN name\n",
    "END AS Asia,\n",
    "CASE\n",
    "WHEN continent = 'Europe' THEN name\n",
    "END AS Europe\n",
    "FROM student\n",
    ") AS a\n",
    "GROUP BY row_count\n",
    "ORDER BY row_count"
   ]
  },
  {
   "cell_type": "markdown",
   "metadata": {},
   "source": [
    "## Topic 5: Lag "
   ]
  },
  {
   "cell_type": "markdown",
   "metadata": {},
   "source": [
    "### Q180. Consecutive Numbers (Easy) "
   ]
  },
  {
   "cell_type": "code",
   "execution_count": null,
   "metadata": {},
   "outputs": [],
   "source": [
    "Select l1.Num as ConsecutiveNums\n",
    "FROM Logs as l1, Logs as l2, Logs as l3\n",
    "WHERE l1.id = l2.id + 1 AND l2.id = l3.id+1 \n",
    "AND l1.Num = l2.Num \n",
    "AND l2.Num = l3.Num"
   ]
  },
  {
   "cell_type": "markdown",
   "metadata": {},
   "source": [
    "### Q603. Consecutive Available Seats (Easy)"
   ]
  },
  {
   "cell_type": "code",
   "execution_count": null,
   "metadata": {},
   "outputs": [],
   "source": [
    "select lag1.seat_id\n",
    "from cinema lag1, cinema lag2, cinema lag3\n",
    "where (lag1.seat_id + 1 = lag2.seat_id \n",
    "       and lag1.seat_id - 1 = lag3.seat_id \n",
    "       and lag1.free = 1 \n",
    "       and lag2.free = 1 \n",
    "       and lag3.free = 1)\n",
    "or\n",
    "(lag1.seat_id + 1 = lag2.seat_id \n",
    " and lag1.seat_id + 2 = lag3.seat_id \n",
    " and lag1.free = 1 \n",
    " and lag2.free = 1 \n",
    " and lag3.free = 1)\n",
    "or\n",
    "(lag1.seat_id - 1 = lag2.seat_id \n",
    " and lag1.seat_id - 2 = lag3.seat_id \n",
    " and lag1.free = 1 \n",
    " and lag2.free = 1 \n",
    " and lag3.free = 1)"
   ]
  },
  {
   "cell_type": "markdown",
   "metadata": {},
   "source": [
    "## Topic 6: Getting Rates"
   ]
  },
  {
   "cell_type": "markdown",
   "metadata": {},
   "source": [
    "### Q578. Get Highest Answer Rate Question (Medium)"
   ]
  },
  {
   "cell_type": "code",
   "execution_count": null,
   "metadata": {},
   "outputs": [],
   "source": [
    "select question_id as survey_log\n",
    "from survey_log\n",
    "group by question_id\n",
    "order by sum(action like 'answer')/count(*) desc limit 1;"
   ]
  },
  {
   "cell_type": "markdown",
   "metadata": {},
   "source": [
    "### Q597. Friend Requests I: Overall Acceptance Rate (Easy)"
   ]
  },
  {
   "cell_type": "code",
   "execution_count": null,
   "metadata": {},
   "outputs": [],
   "source": [
    "SELECT ifnull(Round(count(distinct requester_id, accepter_id) / count(distinct sender_id, send_to_id), 2),0) as accept_rate\n",
    "FROM request_accepted, friend_request"
   ]
  }
 ],
 "metadata": {
  "kernelspec": {
   "display_name": "Python 3",
   "language": "python",
   "name": "python3"
  },
  "language_info": {
   "codemirror_mode": {
    "name": "ipython",
    "version": 3
   },
   "file_extension": ".py",
   "mimetype": "text/x-python",
   "name": "python",
   "nbconvert_exporter": "python",
   "pygments_lexer": "ipython3",
   "version": "3.7.6"
  }
 },
 "nbformat": 4,
 "nbformat_minor": 4
}
